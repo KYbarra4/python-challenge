{
 "cells": [
  {
   "cell_type": "code",
   "execution_count": 1,
   "metadata": {},
   "outputs": [],
   "source": [
    "import os\n",
    "import csv"
   ]
  },
  {
   "cell_type": "code",
   "execution_count": 8,
   "metadata": {},
   "outputs": [
    {
     "ename": "FileNotFoundError",
     "evalue": "[Errno 2] No such file or directory: '..\\\\Resources\\\\election_data.csv'",
     "output_type": "error",
     "traceback": [
      "\u001b[1;31m---------------------------------------------------------------------------\u001b[0m",
      "\u001b[1;31mFileNotFoundError\u001b[0m                         Traceback (most recent call last)",
      "\u001b[1;32m<ipython-input-8-98edff056e12>\u001b[0m in \u001b[0;36m<module>\u001b[1;34m\u001b[0m\n\u001b[0;32m      5\u001b[0m \u001b[1;31m#total_votes=0\u001b[0m\u001b[1;33m\u001b[0m\u001b[1;33m\u001b[0m\u001b[1;33m\u001b[0m\u001b[0m\n\u001b[0;32m      6\u001b[0m \u001b[1;33m\u001b[0m\u001b[0m\n\u001b[1;32m----> 7\u001b[1;33m \u001b[1;32mwith\u001b[0m \u001b[0mopen\u001b[0m\u001b[1;33m(\u001b[0m\u001b[0melection_csv\u001b[0m\u001b[1;33m)\u001b[0m \u001b[1;32mas\u001b[0m \u001b[0mcsvfile\u001b[0m\u001b[1;33m:\u001b[0m\u001b[1;33m\u001b[0m\u001b[1;33m\u001b[0m\u001b[0m\n\u001b[0m\u001b[0;32m      8\u001b[0m     \u001b[0mcsvreader\u001b[0m \u001b[1;33m=\u001b[0m \u001b[0mcsv\u001b[0m\u001b[1;33m.\u001b[0m\u001b[0mreader\u001b[0m\u001b[1;33m(\u001b[0m\u001b[0melection_csv\u001b[0m\u001b[1;33m,\u001b[0m \u001b[0mdelimiter\u001b[0m\u001b[1;33m=\u001b[0m\u001b[1;34m','\u001b[0m\u001b[1;33m)\u001b[0m\u001b[1;33m\u001b[0m\u001b[1;33m\u001b[0m\u001b[0m\n\u001b[0;32m      9\u001b[0m \u001b[1;33m\u001b[0m\u001b[0m\n",
      "\u001b[1;31mFileNotFoundError\u001b[0m: [Errno 2] No such file or directory: '..\\\\Resources\\\\election_data.csv'"
     ]
    }
   ],
   "source": [
    "election_csv = os.path.join('..','Resources','election_data.csv')\n",
    "\n",
    "#votes = []\n",
    "#candidates = []\n",
    "#total_votes=0\n",
    "\n",
    "with open(election_csv) as csvfile:\n",
    "    csvreader = csv.reader(election_csv, delimiter=',')\n",
    "\n",
    "    next(csvreader)\n",
    "    pypoll=list(csvreader)\n",
    "    row_s = len(pypoll)\n",
    "    can_list=list()\n",
    "    can_count=list()\n",
    "\n",
    "    for i in range(0,row_s):\n",
    "        candidates = pypoll[i][2]\n",
    "        can_count.append(candidates)\n",
    "\n",
    "        if candidates not in can_list:\n",
    "            can_list.append(candidates)\n",
    "\n",
    "    poll_count=len(can_list)\n",
    "\n",
    "    percent= list()\n",
    "    votes= list()\n",
    "\n",
    "    for j in range (0,poll_count):\n",
    "      name=can_list[j]\n",
    "      votes.append(can_count.count(name))\n",
    "      vote_p=votes[j]/row_s\n",
    "      percent.append(vote_p)\n",
    "\n",
    "    can_win=votes.index(max(votes))\n",
    "\n",
    "print('Election Results')\n",
    "print('-------------------------')\n",
    "print(f'Total Votes:{row_s:,}')\n",
    "print('-------------------------')\n",
    "for m in range (0,poll_count):\n",
    "    print(f'{poll_count[m]} : {percent[m]} ({votes[m]:,})')\n",
    "print('-------------------------')\n",
    "print(f'Winner: {poll_count[can_win]}')\n",
    "print('-------------------------')\n"
   ]
  },
  {
   "cell_type": "code",
   "execution_count": null,
   "metadata": {},
   "outputs": [],
   "source": []
  }
 ],
 "metadata": {
  "kernelspec": {
   "display_name": "Python 3.6.13 ('pythondata')",
   "language": "python",
   "name": "python3"
  },
  "language_info": {
   "codemirror_mode": {
    "name": "ipython",
    "version": 3
   },
   "file_extension": ".py",
   "mimetype": "text/x-python",
   "name": "python",
   "nbconvert_exporter": "python",
   "pygments_lexer": "ipython3",
   "version": "3.6.13"
  },
  "orig_nbformat": 4,
  "vscode": {
   "interpreter": {
    "hash": "da0d36b2a7e57bb60c63eb7194806637bd0bc053a910eb3ed34b44f700fbb9a6"
   }
  }
 },
 "nbformat": 4,
 "nbformat_minor": 2
}
