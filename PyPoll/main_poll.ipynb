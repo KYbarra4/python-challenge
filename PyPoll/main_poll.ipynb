{
 "cells": [
  {
   "cell_type": "code",
   "execution_count": 1,
   "metadata": {},
   "outputs": [],
   "source": [
    "import os\n",
    "import csv"
   ]
  },
  {
   "cell_type": "code",
   "execution_count": 1,
   "metadata": {},
   "outputs": [
    {
     "ename": "FileNotFoundError",
     "evalue": "[Errno 2] No such file or directory: '..\\\\Resources\\\\election_data.csv'",
     "output_type": "error",
     "traceback": [
      "\u001b[1;31m---------------------------------------------------------------------------\u001b[0m",
      "\u001b[1;31mFileNotFoundError\u001b[0m                         Traceback (most recent call last)",
      "\u001b[1;32mc:\\Users\\yaber\\Desktop\\Data Analytics\\Assignments\\3\\python_challenge\\python-challenge\\PyPoll\\main_poll.ipynb Cell 2\u001b[0m in \u001b[0;36m<cell line: 7>\u001b[1;34m()\u001b[0m\n\u001b[0;32m      <a href='vscode-notebook-cell:/c%3A/Users/yaber/Desktop/Data%20Analytics/Assignments/3/python_challenge/python-challenge/PyPoll/main_poll.ipynb#W1sZmlsZQ%3D%3D?line=0'>1</a>\u001b[0m election_csv \u001b[39m=\u001b[39m os\u001b[39m.\u001b[39mpath\u001b[39m.\u001b[39mjoin(\u001b[39m'\u001b[39m\u001b[39m..\u001b[39m\u001b[39m'\u001b[39m,\u001b[39m'\u001b[39m\u001b[39mResources\u001b[39m\u001b[39m'\u001b[39m,\u001b[39m'\u001b[39m\u001b[39melection_data.csv\u001b[39m\u001b[39m'\u001b[39m)\n\u001b[0;32m      <a href='vscode-notebook-cell:/c%3A/Users/yaber/Desktop/Data%20Analytics/Assignments/3/python_challenge/python-challenge/PyPoll/main_poll.ipynb#W1sZmlsZQ%3D%3D?line=2'>3</a>\u001b[0m \u001b[39m#votes = []\u001b[39;00m\n\u001b[0;32m      <a href='vscode-notebook-cell:/c%3A/Users/yaber/Desktop/Data%20Analytics/Assignments/3/python_challenge/python-challenge/PyPoll/main_poll.ipynb#W1sZmlsZQ%3D%3D?line=3'>4</a>\u001b[0m \u001b[39m#candidates = []\u001b[39;00m\n\u001b[0;32m      <a href='vscode-notebook-cell:/c%3A/Users/yaber/Desktop/Data%20Analytics/Assignments/3/python_challenge/python-challenge/PyPoll/main_poll.ipynb#W1sZmlsZQ%3D%3D?line=4'>5</a>\u001b[0m \u001b[39m#total_votes=0\u001b[39;00m\n\u001b[1;32m----> <a href='vscode-notebook-cell:/c%3A/Users/yaber/Desktop/Data%20Analytics/Assignments/3/python_challenge/python-challenge/PyPoll/main_poll.ipynb#W1sZmlsZQ%3D%3D?line=6'>7</a>\u001b[0m \u001b[39mwith\u001b[39;00m \u001b[39mopen\u001b[39;49m(election_csv) \u001b[39mas\u001b[39;00m csvfile:\n\u001b[0;32m      <a href='vscode-notebook-cell:/c%3A/Users/yaber/Desktop/Data%20Analytics/Assignments/3/python_challenge/python-challenge/PyPoll/main_poll.ipynb#W1sZmlsZQ%3D%3D?line=7'>8</a>\u001b[0m     csvreader \u001b[39m=\u001b[39m csv\u001b[39m.\u001b[39mreader(election_csv, delimiter\u001b[39m=\u001b[39m\u001b[39m'\u001b[39m\u001b[39m,\u001b[39m\u001b[39m'\u001b[39m)\n\u001b[0;32m     <a href='vscode-notebook-cell:/c%3A/Users/yaber/Desktop/Data%20Analytics/Assignments/3/python_challenge/python-challenge/PyPoll/main_poll.ipynb#W1sZmlsZQ%3D%3D?line=9'>10</a>\u001b[0m     \u001b[39mnext\u001b[39m(csvreader)\n",
      "\u001b[1;31mFileNotFoundError\u001b[0m: [Errno 2] No such file or directory: '..\\\\Resources\\\\election_data.csv'"
     ]
    }
   ],
   "source": [
    "election_csv = os.path.join('..','Resources','election_data.csv')\n",
    "\n",
    "#votes = []\n",
    "#candidates = []\n",
    "#total_votes=0\n",
    "\n",
    "with open(election_csv) as csvfile:\n",
    "    csvreader = csv.reader(election_csv, delimiter=',')\n",
    "\n",
    "    next(csvreader)\n",
    "    pypoll=list(csvreader)\n",
    "    row_s = len(pypoll)\n",
    "    can_list=list()\n",
    "    can_count=list()\n",
    "\n",
    "    for i in range(0,row_s):\n",
    "        candidates = pypoll[i][2]\n",
    "        can_count.append(candidates)\n",
    "\n",
    "        if candidates not in can_list:\n",
    "            can_list.append(candidates)\n",
    "\n",
    "    poll_count=len(can_list)\n",
    "\n",
    "    percent= list()\n",
    "    votes= list()\n",
    "\n",
    "    for j in range (0,poll_count):\n",
    "      name=can_list[j]\n",
    "      votes.append(can_count.count(name))\n",
    "      vote_p=votes[j]/row_s\n",
    "      percent.append(vote_p)\n",
    "\n",
    "    can_win=votes.index(max(votes))\n",
    "\n",
    "print('Election Results')\n",
    "print('-------------------------')\n",
    "print(f'Total Votes:{row_s:,}')\n",
    "print('-------------------------')\n",
    "for m in range (0,poll_count):\n",
    "    print(f'{poll_count[m]} : {percent[m]} ({votes[m]:,})')\n",
    "print('-------------------------')\n",
    "print(f'Winner: {poll_count[can_win]}')\n",
    "print('-------------------------')\n",
    "\n",
    "election_results = open(\"election_results.txt\",\"w\")\n",
    "\n",
    "election_results.write('Election Results\\n')\n",
    "election_results.write('-------------------------\\n')\n",
    "election_results.write(f'Total Votes:{row_s:,}\\n')\n",
    "election_results.write('-------------------------\\n')\n",
    "for m in range (0,poll_count):\n",
    "    election_results.write(f'{poll_count[m]} : {percent[m]} ({votes[m]:,})\\n')\n",
    "election_results.write('-------------------------\\n')\n",
    "election_results.write(f'Winner: {poll_count[can_win]}\\n')\n",
    "election_results.write('-------------------------\\n')"
   ]
  },
  {
   "cell_type": "code",
   "execution_count": null,
   "metadata": {},
   "outputs": [],
   "source": []
  }
 ],
 "metadata": {
  "kernelspec": {
   "display_name": "Python 3.9.12 ('base')",
   "language": "python",
   "name": "python3"
  },
  "language_info": {
   "codemirror_mode": {
    "name": "ipython",
    "version": 3
   },
   "file_extension": ".py",
   "mimetype": "text/x-python",
   "name": "python",
   "nbconvert_exporter": "python",
   "pygments_lexer": "ipython3",
   "version": "3.9.12"
  },
  "orig_nbformat": 4,
  "vscode": {
   "interpreter": {
    "hash": "ca160d81952f45d0214e8df7cb8b9103fcb9f703c03fbf488f3e41be1d1172f6"
   }
  }
 },
 "nbformat": 4,
 "nbformat_minor": 2
}
