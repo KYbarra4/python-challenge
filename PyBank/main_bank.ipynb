{
 "cells": [
  {
   "cell_type": "code",
   "execution_count": 7,
   "metadata": {},
   "outputs": [],
   "source": [
    "import os"
   ]
  },
  {
   "cell_type": "code",
   "execution_count": 8,
   "metadata": {},
   "outputs": [],
   "source": [
    "import csv"
   ]
  },
  {
   "cell_type": "code",
   "execution_count": 15,
   "metadata": {},
   "outputs": [
    {
     "ename": "FileNotFoundError",
     "evalue": "[Errno 2] No such file or directory: '.\\\\PyBank\\\\Resources\\\\budget_data.csv'",
     "output_type": "error",
     "traceback": [
      "\u001b[1;31m---------------------------------------------------------------------------\u001b[0m",
      "\u001b[1;31mFileNotFoundError\u001b[0m                         Traceback (most recent call last)",
      "\u001b[1;32m<ipython-input-15-a70aa6a7652e>\u001b[0m in \u001b[0;36m<module>\u001b[1;34m\u001b[0m\n\u001b[0;32m      1\u001b[0m \u001b[0mbudget_csv\u001b[0m \u001b[1;33m=\u001b[0m \u001b[0mos\u001b[0m\u001b[1;33m.\u001b[0m\u001b[0mpath\u001b[0m\u001b[1;33m.\u001b[0m\u001b[0mjoin\u001b[0m\u001b[1;33m(\u001b[0m\u001b[1;34m'.'\u001b[0m\u001b[1;33m,\u001b[0m\u001b[1;34m'PyBank'\u001b[0m\u001b[1;33m,\u001b[0m\u001b[1;34m'Resources'\u001b[0m\u001b[1;33m,\u001b[0m\u001b[1;34m'budget_data.csv'\u001b[0m\u001b[1;33m)\u001b[0m\u001b[1;33m\u001b[0m\u001b[1;33m\u001b[0m\u001b[0m\n\u001b[0;32m      2\u001b[0m \u001b[1;33m\u001b[0m\u001b[0m\n\u001b[1;32m----> 3\u001b[1;33m \u001b[1;32mwith\u001b[0m \u001b[0mopen\u001b[0m\u001b[1;33m(\u001b[0m\u001b[0mbudget_csv\u001b[0m\u001b[1;33m)\u001b[0m \u001b[1;32mas\u001b[0m \u001b[0mcsvfile\u001b[0m\u001b[1;33m:\u001b[0m\u001b[1;33m\u001b[0m\u001b[1;33m\u001b[0m\u001b[0m\n\u001b[0m\u001b[0;32m      4\u001b[0m     \u001b[0mcsvreader\u001b[0m \u001b[1;33m=\u001b[0m \u001b[0mcsv\u001b[0m\u001b[1;33m.\u001b[0m\u001b[0mreader\u001b[0m\u001b[1;33m(\u001b[0m\u001b[0mbudget_csv\u001b[0m\u001b[1;33m,\u001b[0m \u001b[0mdelimiter\u001b[0m\u001b[1;33m=\u001b[0m\u001b[1;34m','\u001b[0m\u001b[1;33m)\u001b[0m\u001b[1;33m\u001b[0m\u001b[1;33m\u001b[0m\u001b[0m\n\u001b[0;32m      5\u001b[0m \u001b[1;33m\u001b[0m\u001b[0m\n",
      "\u001b[1;31mFileNotFoundError\u001b[0m: [Errno 2] No such file or directory: '.\\\\PyBank\\\\Resources\\\\budget_data.csv'"
     ]
    }
   ],
   "source": [
    "budget_csv = os.path.join('..','PyBank','Resources','budget_data.csv')\n",
    "\n",
    "with open(budget_csv) as csvfile:\n",
    "    csvreader = csv.reader(budget_csv, delimiter=',')\n",
    "\n",
    "    months=[]\n",
    "    profit_loss=[]\n",
    "    change =[]\n",
    "    #total= []\n",
    "    #total = 0\n",
    "    #print(csvreader)\n",
    "    #csv_header = next(csvreader)\n",
    "    #print(f\"CSV Header; {csv_header}\")\n",
    "    #cntr = 0\n",
    "    #for line in csvreader:\n",
    "        #cntr +=1\n",
    "        #if cntr ==87:\n",
    "            #print(line)\n",
    "    next(csvreader)\n",
    "\n",
    "    #data=list(csvreader)\n",
    "    #rowsx=len(data)\n",
    "\n",
    "    #profit_loss=0\n",
    "    #for i in range(0, rows):\n",
    "        #total=total+int(data[i][1])\n",
    "\n",
    "    for row in range(budget_csv):\n",
    "\n",
    "        months.append(row[0])\n",
    "        #print(months)\n",
    "        profit_loss.append(int(row[1]))\n",
    "\n",
    "    total_months=len(months)\n",
    "        #total += int(row[1])\n",
    "        \n",
    "\n",
    "        #months.append(row[0])\n",
    "        #profit_loss.append(row[1])\n",
    "\n",
    "#def print_percentages(budget_data):\n",
    "        #month_date = str(budget_data[0])\n",
    "        #profit_loss = int(budget_data[1])\n",
    "\n",
    "#month_total = len(months)\n",
    "#total= sum(profit_loss)\n",
    "\n",
    "for i in range(len(profit_loss-1)):\n",
    "    change.append(profit_loss[i+1]-profit_loss[i])\n",
    "    change_total = sum(change)\n",
    "\n",
    "average = round((change_total/(total_months-1)),2)\n",
    "\n",
    "min_profit = min(change)\n",
    "max_profit = max(change)\n",
    "max_month = change.index(max_profit)\n",
    "min_month = change.index(min_profit) \n",
    "loss_month= months[min_month+1]\n",
    "profit_month= months[max_month+1]\n",
    "\n",
    "print('Financial Analysis')\n",
    "print('----------------------------')\n",
    "print(f'Total Months:{str(month_total)}')\n",
    "print(f'Total: $ {total}')\n",
    "print(f'Average Change: ${average}')\n",
    "print(f'Greatest Increase in Profits: {profit_month} (${max_profit})')\n",
    "print(f'Greatest Decrease in Profits: {loss_month} (${min_profit})')\n",
    "\n",
    "financial_analysis = open(\"financial_analysis.txt\",\"w\")\n",
    "financial_analysis.write('Financial Analysis\\n')\n",
    "financial_analysis.write('----------------------------\\n')\n",
    "financial_analysis.write(f'Total Months:{str(month_total)}\\n')\n",
    "financial_analysis.write(f'Total: $ {total}\\n')\n",
    "financial_analysis.write(f'Average Change: ${average}\\n')\n",
    "financial_analysis.write(f'Greatest Increase in Profits: {profit_month} (${max_profit})\\n')\n",
    "financial_analysis.write(f'Greatest Decrease in Profits: {loss_month} (${min_profit})\\n')\n",
    "\n",
    "financial_analysis.close()\n"
   ]
  },
  {
   "cell_type": "code",
   "execution_count": null,
   "metadata": {},
   "outputs": [],
   "source": []
  }
 ],
 "metadata": {
  "kernelspec": {
   "display_name": "Python 3.6.13 ('pythondata')",
   "language": "python",
   "name": "python3"
  },
  "language_info": {
   "codemirror_mode": {
    "name": "ipython",
    "version": 3
   },
   "file_extension": ".py",
   "mimetype": "text/x-python",
   "name": "python",
   "nbconvert_exporter": "python",
   "pygments_lexer": "ipython3",
   "version": "3.6.13"
  },
  "orig_nbformat": 4,
  "vscode": {
   "interpreter": {
    "hash": "da0d36b2a7e57bb60c63eb7194806637bd0bc053a910eb3ed34b44f700fbb9a6"
   }
  }
 },
 "nbformat": 4,
 "nbformat_minor": 2
}
